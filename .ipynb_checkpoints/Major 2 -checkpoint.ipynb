{
 "cells": [
  {
   "cell_type": "code",
   "execution_count": 1,
   "metadata": {},
   "outputs": [],
   "source": [
    "import torch\n",
    "from torch import optim,nn\n",
    "from torchvision import transforms,datasets\n",
    "import torch.nn.functional as F\n",
    "import torch.nn.init as init\n",
    "import matplotlib as plt\n",
    "import torch.utils.data as data\n",
    "\n",
    "import os\n",
    "\n",
    "\n",
    "%matplotlib inline"
   ]
  },
  {
   "cell_type": "code",
   "execution_count": 2,
   "metadata": {},
   "outputs": [
    {
     "data": {
      "text/plain": [
       "device(type='cuda')"
      ]
     },
     "execution_count": 2,
     "metadata": {},
     "output_type": "execute_result"
    }
   ],
   "source": [
    "device = torch.device(\"cuda\" if torch.cuda.is_available() else \"cpu\")\n",
    "device"
   ]
  },
  {
   "cell_type": "code",
   "execution_count": 3,
   "metadata": {},
   "outputs": [],
   "source": [
    "def Downloaddata():\n",
    "    import urllib\n",
    "    #import wget\n",
    "    path = \"./\"\n",
    "    tgz_file = \"BSDS300-images.tgz\"\n",
    "    print(\"Data Download Initialing...\")\n",
    "    url = \"http://www2.eecs.berkeley.edu/Research/Projects/CS/vision/bsds/BSDS300-images.tgz\"\n",
    "    #wget.download(url)\n",
    "    data = urllib.request.urlretrieve(url,tgz_file)\n",
    "    print(\"Data Download Complete\")\n",
    "    print(\"Data Extraction Initializing...\")\n",
    "    with tarfile.open(tgz_file) as tar:\n",
    "        for item in tar:\n",
    "            tar.extract(item,path)\n",
    "    print(\"Data Extraction Complete\")"
   ]
  },
  {
   "cell_type": "code",
   "execution_count": 4,
   "metadata": {},
   "outputs": [],
   "source": [
    "def dataset():\n",
    "    data_dir = \"BSDS300/images\"\n",
    "    if(not os.path.exists(data_dir)):\n",
    "        Downloaddata()\n",
    "    return data_dir"
   ]
  },
  {
   "cell_type": "code",
   "execution_count": 5,
   "metadata": {},
   "outputs": [],
   "source": [
    "No_of_Epoch = 30\n",
    "upscale_Factor = 3\n",
    "batch_Size = 4\n",
    "Learning_Rate = 0.001"
   ]
  },
  {
   "cell_type": "code",
   "execution_count": 6,
   "metadata": {},
   "outputs": [],
   "source": [
    "def is_image_file(filename):\n",
    "    return any(filename.endswith(extension) for extension in [\".png\",\".jpg\",\".jpeg\"])\n",
    "\n",
    "def load_img(filepath):\n",
    "    img = image.open(filepath).convert('YCbCr')\n",
    "    y,_,_ = img.split()\n",
    "    return y\n"
   ]
  },
  {
   "cell_type": "code",
   "execution_count": 7,
   "metadata": {},
   "outputs": [],
   "source": [
    "\n",
    "class DatasetFromFolder(data.Dataset):\n",
    "    def __init__(self,img_dir,input_transfrom=None,target_transform=None):\n",
    "        super(DatasetFromFolder,self).__init__()\n",
    "        self.image_filenames = [img_dir+x for x in listdir(img_dir) if is_image_file(x)]\n",
    "        \n",
    "        self.input_transfrom = input_transfrom\n",
    "        self.target_transform = target_transform\n",
    "    \n",
    "    def __get__item(self,index):\n",
    "        input=load_img(self.image_filenames[index])\n",
    "        target = input.copy()\n",
    "        if(self.input_transfrom):\n",
    "            input = self.input_transfrom(input)\n",
    "        if(self.target_transform):\n",
    "            target = self.target_transform(input)\n",
    "        return input,target\n",
    "    \n",
    "    def __len__(self):\n",
    "        return len(self.image_filenames)\n",
    "        "
   ]
  },
  {
   "cell_type": "code",
   "execution_count": 8,
   "metadata": {},
   "outputs": [],
   "source": [
    "def valid_crop_size(crop_size,upscale_factor):\n",
    "    return crop_size - (crop_size % upscale_factor)\n",
    "\n",
    "def input_transfrom(crop_size,upscale_factor):\n",
    "    return transforms.Compose([transforms.CenterCrop(crop_size),\n",
    "                               transforms.Resize(crop_size//upscale_factor),\n",
    "                               transforms.ToTensor(),\n",
    "                              ])\n",
    "\n",
    "def target_transfrom(crop_size,upscale_factor):\n",
    "    return transforms.Compose([transforms.CenterCrop(crop_size),\n",
    "                               transforms.ToTensor(),\n",
    "                              ])\n",
    "\n",
    "def fetch_training_data(upscale_factor):\n",
    "    dataset_dir = dataset()\n",
    "    train_dir = dataset_dir+\"/train\"\n",
    "    crop_size = valid_crop_size(256,upscale_factor)\n",
    "    \n",
    "    return DatasetFromFolder(train_dir,\n",
    "                             input_transfrom=input_transfrom(crop_size,upscale_factor),\n",
    "                             target_transfrom=target_transfrom(crop_size,upscale_factor)\n",
    "                            )\n",
    "\n",
    "def fetch_test_Data(upscale_factor):\n",
    "    datasetDir = dataset()\n",
    "    test_dir = datasetDir+\"/test\"\n",
    "    crop_size = valid_crop_size(256,upscale_factor)\n",
    "    \n",
    "    return DatasetFromFolder(test_dir,\n",
    "                            input_transfrom = input_transfrom(crop_size,upscale_factor),\n",
    "                            target_transfrom = target_transfrom(crop_size,upscale_factor)\n",
    "                            )\n",
    "\n"
   ]
  },
  {
   "cell_type": "code",
   "execution_count": 9,
   "metadata": {},
   "outputs": [
    {
     "ename": "NameError",
     "evalue": "name 'upscale_factor' is not defined",
     "output_type": "error",
     "traceback": [
      "\u001b[1;31m---------------------------------------------------------------------------\u001b[0m",
      "\u001b[1;31mNameError\u001b[0m                                 Traceback (most recent call last)",
      "\u001b[1;32m<ipython-input-9-007493dffbe3>\u001b[0m in \u001b[0;36m<module>\u001b[1;34m()\u001b[0m\n\u001b[1;32m----> 1\u001b[1;33m \u001b[0mtrain_data\u001b[0m \u001b[1;33m=\u001b[0m \u001b[0mfetch_training_data\u001b[0m\u001b[1;33m(\u001b[0m\u001b[0mupscale_factor\u001b[0m\u001b[1;33m)\u001b[0m\u001b[1;33m\u001b[0m\u001b[0m\n\u001b[0m\u001b[0;32m      2\u001b[0m \u001b[0mtest_data\u001b[0m \u001b[1;33m=\u001b[0m \u001b[0mfetch_test_data\u001b[0m\u001b[1;33m(\u001b[0m\u001b[0mupscale_factor\u001b[0m\u001b[1;33m)\u001b[0m\u001b[1;33m\u001b[0m\u001b[0m\n",
      "\u001b[1;31mNameError\u001b[0m: name 'upscale_factor' is not defined"
     ]
    }
   ],
   "source": [
    "train_data = fetch_training_data(upscale_Factor)\n",
    "test_data = fetch_test_data(upscale_Factor)"
   ]
  },
  {
   "cell_type": "code",
   "execution_count": null,
   "metadata": {},
   "outputs": [],
   "source": [
    "train_loader = torch.utils.data.DataLoader(train_data,batch_size=4,shuffle=True)\n",
    "test_data = torch.utils.data.DataLoader(test_data,batch_size=4,shuffle=True)"
   ]
  },
  {
   "cell_type": "code",
   "execution_count": null,
   "metadata": {},
   "outputs": [],
   "source": [
    "class Model(nn.Module):\n",
    "    def __init__(self):\n",
    "        super(Model,self).__init__()\n",
    "        self.relu = nn.ReLU()\n",
    "        self.conv1 = nn.Conv2d(1,64,(5,5),(1,1),(2,2))\n",
    "        self.conv2 = nn.Conv2d(64,64,(3,3),(1,1),(1,1))\n",
    "        self.conv3 = nn.Conv2d(64,32,(3,3),(1,1),(1,1))\n",
    "        self.conv4 = nn.Conv2d(32,3**2,(3,3),(1,1),(1,1))\n",
    "        self.pixel_shuffle = nn.PixelShuffle(3)\n",
    "        self._initialize_weights()\n",
    "    \n",
    "    def forward(self,x):\n",
    "        x=self.relu(self.conv1(x))\n",
    "        x=self.relu(self.conv2(x))\n",
    "        x=self.relu(self.conv3(x))\n",
    "        x=self.pixel_shuffle(self.conv4(x))\n",
    "        \n",
    "        return x\n",
    "    \n",
    "    def _initialize_weights(self):\n",
    "        init.orthogonal_(self.conv1.weight, init.calculate_gain('relu'))\n",
    "        init.orthogonal_(self.conv2.weight,init.calculate_gain('relu'))\n",
    "        init.orthogonal_(self.conv3.weight,init.calculate_gain('relu'))\n",
    "        init.orthogonal_(self.conv4.weight)"
   ]
  },
  {
   "cell_type": "code",
   "execution_count": null,
   "metadata": {},
   "outputs": [],
   "source": [
    "model = Model()\n",
    "model"
   ]
  },
  {
   "cell_type": "code",
   "execution_count": null,
   "metadata": {},
   "outputs": [],
   "source": [
    "criterion = nn.MSELoss()\n",
    "optimizer = optim.Adam(model.parameters(),lr=0.001)"
   ]
  },
  {
   "cell_type": "raw",
   "metadata": {},
   "source": [
    "model.to(device)\n",
    "epoch=30\n",
    "train_loss = 0.0\n",
    "valid_loss = 0.0\n",
    "\n",
    "for i in range(epoch):\n",
    "    "
   ]
  }
 ],
 "metadata": {
  "kernelspec": {
   "display_name": "Python 3",
   "language": "python",
   "name": "python3"
  },
  "language_info": {
   "codemirror_mode": {
    "name": "ipython",
    "version": 3
   },
   "file_extension": ".py",
   "mimetype": "text/x-python",
   "name": "python",
   "nbconvert_exporter": "python",
   "pygments_lexer": "ipython3",
   "version": "3.6.5"
  }
 },
 "nbformat": 4,
 "nbformat_minor": 2
}
